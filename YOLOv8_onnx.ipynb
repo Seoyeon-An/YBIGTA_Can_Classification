{
  "nbformat": 4,
  "nbformat_minor": 0,
  "metadata": {
    "colab": {
      "provenance": [],
      "gpuType": "T4",
      "authorship_tag": "ABX9TyNBdMR2teU756zL2XTwvcE/",
      "include_colab_link": true
    },
    "kernelspec": {
      "name": "python3",
      "display_name": "Python 3"
    },
    "language_info": {
      "name": "python"
    },
    "accelerator": "GPU",
    "gpuClass": "standard"
  },
  "cells": [
    {
      "cell_type": "markdown",
      "metadata": {
        "id": "view-in-github",
        "colab_type": "text"
      },
      "source": [
        "<a href=\"https://colab.research.google.com/github/Seoyeon-An/YBIGTA_Can_Classification/blob/model/YOLOv8_onnx.ipynb\" target=\"_parent\"><img src=\"https://colab.research.google.com/assets/colab-badge.svg\" alt=\"Open In Colab\"/></a>"
      ]
    },
    {
      "cell_type": "code",
      "execution_count": null,
      "metadata": {
        "id": "VJvt4Up96GdC"
      },
      "outputs": [],
      "source": [
        "!pip install ultralytics\n",
        "from ultralytics import YOLO"
      ]
    },
    {
      "cell_type": "code",
      "source": [
        "# check if selected GPU is available or use CPU\n",
        "import torch\n",
        "if torch.cuda.is_available():\n",
        "    print('Good to go! You are using', torch.cuda.get_device_name())\n",
        "    device = torch.device('cuda')\n",
        "else:\n",
        "    print('Please set GPU via Edit -> Notebook Settings.')\n",
        "    device = torch.device('cpu')\n",
        "     \n",
        "print('Default torch.dtype is:', torch.get_default_dtype())"
      ],
      "metadata": {
        "id": "YnHwCmPQiVxY",
        "colab": {
          "base_uri": "https://localhost:8080/"
        },
        "outputId": "74901b91-8a21-443e-b6de-aa7755501ede"
      },
      "execution_count": 2,
      "outputs": [
        {
          "output_type": "stream",
          "name": "stdout",
          "text": [
            "Good to go! You are using Tesla T4\n",
            "Default torch.dtype is: torch.float32\n"
          ]
        }
      ]
    },
    {
      "cell_type": "markdown",
      "source": [
        "## Constructing Dataset"
      ],
      "metadata": {
        "id": "Gd9jg8iphcMk"
      }
    },
    {
      "cell_type": "code",
      "source": [
        "#Connect Google Drive\n",
        "from google.colab import drive\n",
        "drive.mount('/content/drive')"
      ],
      "metadata": {
        "id": "ebdqdEmIicOA",
        "colab": {
          "base_uri": "https://localhost:8080/"
        },
        "outputId": "5cc88a82-2e2e-41c7-f6fa-32737fb7e97b"
      },
      "execution_count": 3,
      "outputs": [
        {
          "output_type": "stream",
          "name": "stdout",
          "text": [
            "Mounted at /content/drive\n"
          ]
        }
      ]
    },
    {
      "cell_type": "code",
      "source": [
        "!unzip -q /content/drive/MyDrive/ybigta/2023-1/Conference/Total_can_drink.zip -d /content/Dataset"
      ],
      "metadata": {
        "id": "V6FlSkaBifpw"
      },
      "execution_count": null,
      "outputs": []
    },
    {
      "cell_type": "code",
      "source": [
        "import os\n",
        "import random\n",
        "from sklearn.model_selection import train_test_split\n",
        "import shutil\n",
        "\n",
        "# Set the path to your image dataset folder\n",
        "dataset_folder = \"/content/Dataset/download\"\n",
        "\n",
        "# Set the path for the train and test folders\n",
        "train_folder = \"/content/CanDataset/train\"\n",
        "test_folder = \"/content/CanDataset/test\"\n",
        "val_folder = \"/content/CanDataset/val\"\n",
        "\n",
        "# Set the random seed for reproducibility\n",
        "random.seed(42)\n",
        "\n",
        "# Get the list of subfolders (image classes) in the dataset folder\n",
        "subfolders = [f.path for f in os.scandir(dataset_folder) if f.is_dir()]\n",
        "\n",
        "# Create train and test folders\n",
        "os.makedirs(train_folder, exist_ok=True)\n",
        "os.makedirs(test_folder, exist_ok=True)\n",
        "os.makedirs(val_folder, exist_ok=True)\n",
        "\n",
        "# Iterate over each subfolder and split the images\n",
        "for subfolder in subfolders:\n",
        "    class_label = os.path.basename(subfolder)\n",
        "    images = [f.path for f in os.scandir(subfolder) if f.is_file()]\n",
        "    \n",
        "    # Split the images into train and test sets\n",
        "    train_images, test_images = train_test_split(images, test_size=0.2, random_state=42)\n",
        "    train_images, val_images = train_test_split(train_images, test_size = 0.2, random_state = 42)\n",
        "    \n",
        "    # Create train and test folders for the class\n",
        "    train_class_folder = os.path.join(train_folder, class_label)\n",
        "    test_class_folder = os.path.join(test_folder, class_label)\n",
        "    val_class_folder = os.path.join(val_folder, class_label)\n",
        "    os.makedirs(train_class_folder, exist_ok=True)\n",
        "    os.makedirs(test_class_folder, exist_ok=True)\n",
        "    os.makedirs(val_class_folder, exist_ok=True)\n",
        "    \n",
        "    # Move the train images to the train folder\n",
        "    for image in train_images:\n",
        "        shutil.copy2(image, train_class_folder)\n",
        "    \n",
        "    # Move the test images to the test folder\n",
        "    for image in test_images:\n",
        "        shutil.copy2(image, test_class_folder)\n",
        "\n",
        "    # Move the validation images to the val folder\n",
        "    for image in test_images:\n",
        "        shutil.copy2(image, val_class_folder)\n"
      ],
      "metadata": {
        "id": "IUFJMsHalzS9"
      },
      "execution_count": null,
      "outputs": []
    },
    {
      "cell_type": "code",
      "source": [
        "import yaml\n",
        "\n",
        "data_dict = {\n",
        "    \"train\": \"/content/CanDataset/train\",\n",
        "    \"val\": \"/content/CanDataset/val\",\n",
        "    \"test\": \"/content/CanDataset/test\",\n",
        "}\n",
        "\n",
        "with open(\"/content/CanDataset/data.yaml\", 'w') as f:\n",
        "  yaml.dump(data_dict, f)"
      ],
      "metadata": {
        "id": "Z34lWx2-haZJ"
      },
      "execution_count": null,
      "outputs": []
    },
    {
      "cell_type": "code",
      "source": [
        "colab_folder = '/content/CanDataset'\n",
        "drive_folder = '/content/drive/MyDrive/ybigta/2023-1/Conference/'  # Replace with the desired destination folder in Google Drive\n",
        "\n",
        "zip_file = f'{drive_folder}/CanDataset'  # Replace with the desired name for the zip file\n",
        "\n",
        "shutil.make_archive(zip_file, 'zip', colab_folder)"
      ],
      "metadata": {
        "colab": {
          "base_uri": "https://localhost:8080/",
          "height": 36
        },
        "id": "hjEkyUOymGqE",
        "outputId": "66a5b456-91be-4186-d268-ae0854cc7959"
      },
      "execution_count": null,
      "outputs": [
        {
          "output_type": "execute_result",
          "data": {
            "text/plain": [
              "'/content/drive/MyDrive/ybigta/2023-1/Conference/CanDataset.zip'"
            ],
            "application/vnd.google.colaboratory.intrinsic+json": {
              "type": "string"
            }
          },
          "metadata": {},
          "execution_count": 9
        }
      ]
    },
    {
      "cell_type": "code",
      "source": [
        "!unzip -q /content/drive/MyDrive/ybigta/2023-1/Conference/CanDataset.zip -d /content/CanDataset"
      ],
      "metadata": {
        "id": "-hqY1amR1wF2"
      },
      "execution_count": 4,
      "outputs": []
    },
    {
      "cell_type": "markdown",
      "source": [
        "## Model"
      ],
      "metadata": {
        "id": "TlH90ASVil4f"
      }
    },
    {
      "cell_type": "code",
      "source": [
        "model = YOLO('yolov8n-cls.pt') \n",
        "\n",
        "model.train(data='/content/CanDataset/', epochs=1, imgsz=32)"
      ],
      "metadata": {
        "id": "AJK-SiAvhRiB",
        "colab": {
          "base_uri": "https://localhost:8080/"
        },
        "outputId": "0eb86572-f2f8-4e4f-9ada-a7d7a15115dd"
      },
      "execution_count": 5,
      "outputs": [
        {
          "output_type": "stream",
          "name": "stderr",
          "text": [
            "Downloading https://github.com/ultralytics/assets/releases/download/v0.0.0/yolov8n-cls.pt to yolov8n-cls.pt...\n",
            "100%|██████████| 5.28M/5.28M [00:00<00:00, 51.8MB/s]\n",
            "Ultralytics YOLOv8.0.108 🚀 Python-3.10.11 torch-2.0.1+cu118 CUDA:0 (Tesla T4, 15102MiB)\n",
            "\u001b[34m\u001b[1myolo/engine/trainer: \u001b[0mtask=classify, mode=train, model=yolov8n-cls.pt, data=/content/CanDataset/, epochs=1, patience=50, batch=16, imgsz=32, save=True, save_period=-1, cache=False, device=None, workers=8, project=None, name=None, exist_ok=False, pretrained=False, optimizer=SGD, verbose=True, seed=0, deterministic=True, single_cls=False, rect=False, cos_lr=False, close_mosaic=0, resume=False, amp=True, overlap_mask=True, mask_ratio=4, dropout=0.0, val=True, split=val, save_json=False, save_hybrid=False, conf=None, iou=0.7, max_det=300, half=False, dnn=False, plots=True, source=None, show=False, save_txt=False, save_conf=False, save_crop=False, show_labels=True, show_conf=True, vid_stride=1, line_width=None, visualize=False, augment=False, agnostic_nms=False, classes=None, retina_masks=False, boxes=True, format=torchscript, keras=False, optimize=False, int8=False, dynamic=False, simplify=False, opset=None, workspace=4, nms=False, lr0=0.01, lrf=0.01, momentum=0.937, weight_decay=0.0005, warmup_epochs=3.0, warmup_momentum=0.8, warmup_bias_lr=0.1, box=7.5, cls=0.5, dfl=1.5, pose=12.0, kobj=1.0, label_smoothing=0.0, nbs=64, hsv_h=0.015, hsv_s=0.7, hsv_v=0.4, degrees=0.0, translate=0.1, scale=0.5, shear=0.0, perspective=0.0, flipud=0.0, fliplr=0.5, mosaic=1.0, mixup=0.0, copy_paste=0.0, cfg=None, v5loader=False, tracker=botsort.yaml, save_dir=runs/classify/train\n",
            "Overriding model.yaml nc=1000 with nc=39\n",
            "\n",
            "                   from  n    params  module                                       arguments                     \n",
            "  0                  -1  1       464  ultralytics.nn.modules.conv.Conv             [3, 16, 3, 2]                 \n",
            "  1                  -1  1      4672  ultralytics.nn.modules.conv.Conv             [16, 32, 3, 2]                \n",
            "  2                  -1  1      7360  ultralytics.nn.modules.block.C2f             [32, 32, 1, True]             \n",
            "  3                  -1  1     18560  ultralytics.nn.modules.conv.Conv             [32, 64, 3, 2]                \n",
            "  4                  -1  2     49664  ultralytics.nn.modules.block.C2f             [64, 64, 2, True]             \n",
            "  5                  -1  1     73984  ultralytics.nn.modules.conv.Conv             [64, 128, 3, 2]               \n",
            "  6                  -1  2    197632  ultralytics.nn.modules.block.C2f             [128, 128, 2, True]           \n",
            "  7                  -1  1    295424  ultralytics.nn.modules.conv.Conv             [128, 256, 3, 2]              \n",
            "  8                  -1  1    460288  ultralytics.nn.modules.block.C2f             [256, 256, 1, True]           \n",
            "  9                  -1  1    380199  ultralytics.nn.modules.head.Classify         [256, 39]                     \n",
            "YOLOv8n-cls summary: 99 layers, 1488247 parameters, 1488247 gradients\n",
            "Transferred 156/158 items from pretrained weights\n",
            "\u001b[34m\u001b[1mTensorBoard: \u001b[0mStart with 'tensorboard --logdir runs/classify/train', view at http://localhost:6006/\n",
            "\u001b[34m\u001b[1mAMP: \u001b[0mrunning Automatic Mixed Precision (AMP) checks with YOLOv8n...\n",
            "Downloading https://github.com/ultralytics/assets/releases/download/v0.0.0/yolov8n.pt to yolov8n.pt...\n",
            "100%|██████████| 6.23M/6.23M [00:00<00:00, 81.9MB/s]\n",
            "\u001b[34m\u001b[1mAMP: \u001b[0mchecks passed ✅\n",
            "\u001b[34m\u001b[1moptimizer:\u001b[0m SGD(lr=0.01) with parameter groups 26 weight(decay=0.0), 27 weight(decay=0.0005), 27 bias\n",
            "\u001b[34m\u001b[1malbumentations: \u001b[0mRandomResizedCrop(p=1.0, height=32, width=32, scale=(0.5, 1.0), ratio=(0.75, 1.3333333333333333), interpolation=1), HorizontalFlip(p=0.5), ColorJitter(p=0.5, brightness=[0.6, 1.4], contrast=[0.6, 1.4], saturation=[0.30000000000000004, 1.7], hue=[-0.015, 0.015]), Normalize(p=1.0, mean=(0.0, 0.0, 0.0), std=(1.0, 1.0, 1.0), max_pixel_value=255.0), ToTensorV2(always_apply=True, p=1.0, transpose_mask=False)\n",
            "Image sizes 32 train, 32 val\n",
            "Using 2 dataloader workers\n",
            "Logging results to \u001b[1mruns/classify/train\u001b[0m\n",
            "Starting training for 1 epochs...\n",
            "\n",
            "      Epoch    GPU_mem       loss  Instances       Size\n",
            "        1/1     0.369G      0.923         16         32:   0%|          | 3/763 [00:02<06:41,  1.89it/s]Downloading https://ultralytics.com/assets/Arial.ttf to /root/.config/Ultralytics/Arial.ttf...\n",
            "        1/1     0.369G     0.9216         16         32:   1%|          | 5/763 [00:02<03:38,  3.47it/s]Downloading https://ultralytics.com/assets/Arial.ttf to /root/.config/Ultralytics/Arial.ttf...\n",
            "        1/1     0.369G     0.9246         16         32:   1%|          | 5/763 [00:02<03:38,  3.47it/s]Downloading https://ultralytics.com/assets/Arial.ttf to /root/.config/Ultralytics/Arial.ttf...\n",
            "        1/1     0.369G     0.9324         16         32:   1%|          | 8/763 [00:02<02:07,  5.92it/s]\n",
            "  0%|          | 0.00/755k [00:00<?, ?B/s]\u001b[A\n",
            "\n",
            "  0%|          | 0.00/755k [00:00<?, ?B/s]\u001b[A\u001b[A\n",
            "\n",
            "\n",
            "100%|██████████| 755k/755k [00:00<00:00, 10.7MB/s]\n",
            "100%|██████████| 755k/755k [00:00<00:00, 8.89MB/s]\n",
            "100%|██████████| 755k/755k [00:00<00:00, 9.98MB/s]\n",
            "        1/1     0.369G     0.8994          6         32: 100%|██████████| 763/763 [00:55<00:00, 13.66it/s]\n",
            "               classes   top1_acc   top5_acc:   4%|▍         | 5/120 [00:00<00:04, 23.23it/s]Downloading https://ultralytics.com/assets/Arial.Unicode.ttf to /root/.config/Ultralytics/Arial.Unicode.ttf...\n",
            "Downloading https://ultralytics.com/assets/Arial.Unicode.ttf to /root/.config/Ultralytics/Arial.Unicode.ttf...\n",
            "Downloading https://ultralytics.com/assets/Arial.Unicode.ttf to /root/.config/Ultralytics/Arial.Unicode.ttf...\n",
            "Downloading https://ultralytics.com/assets/Arial.Unicode.ttf to /root/.config/Ultralytics/Arial.Unicode.ttf...\n",
            "               classes   top1_acc   top5_acc:   7%|▋         | 8/120 [00:00<00:08, 13.22it/s]\n",
            "  0%|          | 0.00/22.2M [00:00<?, ?B/s]\u001b[ADownloading https://ultralytics.com/assets/Arial.Unicode.ttf to /root/.config/Ultralytics/Arial.Unicode.ttf...\n",
            "\n",
            "\n",
            "  0%|          | 0.00/22.2M [00:00<?, ?B/s]\u001b[A\u001b[A\n",
            "\n",
            "\n",
            "  0%|          | 0.00/22.2M [00:00<?, ?B/s]\u001b[A\u001b[A\u001b[A\n",
            "\n",
            "\n",
            "\n",
            "  0%|          | 0.00/22.2M [00:00<?, ?B/s]\u001b[A\u001b[A\u001b[A\u001b[A\n",
            "               classes   top1_acc   top5_acc:   8%|▊         | 10/120 [00:00<00:10, 10.09it/s]\n",
            "\n",
            " 14%|█▎        | 3.03M/22.2M [00:00<00:00, 31.3MB/s]\u001b[A\u001b[A\n",
            "\n",
            "\n",
            " 13%|█▎        | 2.89M/22.2M [00:00<00:00, 23.9MB/s]\u001b[A\u001b[A\u001b[ADownloading https://ultralytics.com/assets/Arial.Unicode.ttf to /root/.config/Ultralytics/Arial.Unicode.ttf...\n",
            "\n",
            "\n",
            "\n",
            "\n",
            " 15%|█▌        | 3.38M/22.2M [00:00<00:00, 34.2MB/s]\u001b[A\u001b[A\u001b[A\u001b[A\n",
            " 26%|██▋       | 5.87M/22.2M [00:00<00:00, 28.4MB/s]\u001b[A\n",
            "\n",
            " 27%|██▋       | 6.10M/22.2M [00:00<00:00, 29.3MB/s]\u001b[A\u001b[A\n",
            "\n",
            "\n",
            " 27%|██▋       | 6.06M/22.2M [00:00<00:00, 27.5MB/s]\u001b[A\u001b[A\u001b[A\n",
            " 44%|████▎     | 9.67M/22.2M [00:00<00:00, 31.6MB/s]\u001b[A\n",
            "\n",
            "\n",
            "\n",
            " 36%|███▌      | 7.93M/22.2M [00:00<00:00, 37.0MB/s]\u001b[A\u001b[A\u001b[A\u001b[A\n",
            "\n",
            " 48%|████▊     | 10.7M/22.2M [00:00<00:00, 36.7MB/s]\u001b[A\u001b[A\n",
            "\n",
            "\n",
            " 50%|████▉     | 11.0M/22.2M [00:00<00:00, 37.8MB/s]\u001b[A\u001b[A\u001b[A\n",
            " 62%|██████▏   | 13.8M/22.2M [00:00<00:00, 35.8MB/s]\u001b[A\n",
            "\n",
            "\n",
            "\n",
            "\n",
            "  0%|          | 0.00/22.2M [00:00<?, ?B/s]\u001b[A\u001b[A\u001b[A\u001b[A\u001b[A\n",
            "\n",
            "\n",
            "\n",
            " 52%|█████▏    | 11.4M/22.2M [00:00<00:00, 30.4MB/s]\u001b[A\u001b[A\u001b[A\u001b[A\n",
            "\n",
            " 64%|██████▍   | 14.2M/22.2M [00:00<00:00, 31.2MB/s]\u001b[A\u001b[A\n",
            "\n",
            "\n",
            " 66%|██████▋   | 14.7M/22.2M [00:00<00:00, 35.8MB/s]\u001b[A\u001b[A\u001b[A\n",
            " 78%|███████▊  | 17.2M/22.2M [00:00<00:00, 34.5MB/s]\u001b[A\n",
            "\n",
            "\n",
            "\n",
            " 66%|██████▌   | 14.6M/22.2M [00:00<00:00, 31.0MB/s]\u001b[A\u001b[A\u001b[A\u001b[A\n",
            "\n",
            "\n",
            "\n",
            "\n",
            " 16%|█▌        | 3.45M/22.2M [00:00<00:00, 32.6MB/s]\u001b[A\u001b[A\u001b[A\u001b[A\u001b[A\n",
            "\n",
            " 79%|███████▉  | 17.6M/22.2M [00:00<00:00, 32.4MB/s]\u001b[A\u001b[A\n",
            " 93%|█████████▎| 20.6M/22.2M [00:00<00:00, 33.2MB/s]\u001b[A\n",
            "\n",
            "\n",
            "\n",
            " 79%|███████▉  | 17.6M/22.2M [00:00<00:00, 30.9MB/s]\u001b[A\u001b[A\u001b[A\u001b[A\n",
            "\n",
            "\n",
            " 83%|████████▎ | 18.5M/22.2M [00:00<00:00, 34.0MB/s]\u001b[A\u001b[A\u001b[A\n",
            "\n",
            "\n",
            "\n",
            "\n",
            " 30%|██▉       | 6.57M/22.2M [00:00<00:00, 31.4MB/s]\u001b[A\u001b[A\u001b[A\u001b[A\u001b[A\n",
            "\n",
            "\n",
            "\n",
            "\n",
            "\n",
            "100%|██████████| 22.2M/22.2M [00:00<00:00, 28.4MB/s]\n",
            "\n",
            "\n",
            "\n",
            " 98%|█████████▊| 21.8M/22.2M [00:00<00:00, 30.9MB/s]\u001b[A\u001b[A\u001b[A\n",
            "\n",
            "\n",
            "\n",
            " 99%|█████████▊| 21.9M/22.2M [00:00<00:00, 33.4MB/s]\u001b[A\u001b[A\u001b[A\u001b[A\n",
            "\n",
            "100%|██████████| 22.2M/22.2M [00:00<00:00, 26.7MB/s]\n",
            "\n",
            "\n",
            "\n",
            "\n",
            "\n",
            "\n",
            "               classes   top1_acc   top5_acc:  10%|█         | 12/120 [00:01<00:21,  5.12it/s]\n",
            "\n",
            "\n",
            "\n",
            "\n",
            "100%|██████████| 22.2M/22.2M [00:00<00:00, 26.1MB/s]\n",
            "100%|██████████| 22.2M/22.2M [00:00<00:00, 24.0MB/s]\n",
            "\n",
            "\n",
            "\n",
            "\n",
            "\n",
            "\n",
            "               classes   top1_acc   top5_acc:  11%|█         | 13/120 [00:01<00:19,  5.57it/s]\n",
            "\n",
            "\n",
            "\n",
            "\n",
            " 54%|█████▍    | 12.0M/22.2M [00:00<00:00, 17.8MB/s]\u001b[A\u001b[A\u001b[A\u001b[A\u001b[A\n",
            "\n",
            "\n",
            "\n",
            "\n",
            "\n",
            " 29%|██▉       | 6.45M/22.2M [00:00<00:00, 19.6MB/s]\u001b[A\u001b[A\u001b[A\u001b[A\u001b[A\u001b[A\n",
            "\n",
            "\n",
            "\n",
            "\n",
            " 63%|██████▎   | 14.0M/22.2M [00:00<00:00, 13.1MB/s]\u001b[A\u001b[A\u001b[A\u001b[A\u001b[A\n",
            "\n",
            "\n",
            "\n",
            "\n",
            "\n",
            " 38%|███▊      | 8.34M/22.2M [00:00<00:01, 11.1MB/s]\u001b[A\u001b[A\u001b[A\u001b[A\u001b[A\u001b[A\n",
            "\n",
            "\n",
            "\n",
            "\n",
            "               classes   top1_acc   top5_acc:  12%|█▏        | 14/120 [00:02<00:26,  4.06it/s]\n",
            "\n",
            "\n",
            "\n",
            "\n",
            "\n",
            " 52%|█████▏    | 11.4M/22.2M [00:00<00:00, 15.9MB/s]\u001b[A\u001b[A\u001b[A\u001b[A\u001b[A\u001b[A\n",
            "\n",
            "\n",
            "\n",
            "\n",
            " 81%|████████  | 18.0M/22.2M [00:01<00:00, 14.5MB/s]\u001b[A\u001b[A\u001b[A\u001b[A\u001b[A\n",
            "\n",
            "\n",
            "\n",
            "\n",
            "\n",
            "100%|██████████| 22.2M/22.2M [00:01<00:00, 18.7MB/s]\n",
            "\n",
            "\n",
            "\n",
            "\n",
            "\n",
            "\n",
            "               classes   top1_acc   top5_acc:  13%|█▎        | 16/120 [00:02<00:20,  5.00it/s]\n",
            "\n",
            "\n",
            "\n",
            "\n",
            "\n",
            "100%|██████████| 22.2M/22.2M [00:01<00:00, 21.0MB/s]\n",
            "               classes   top1_acc   top5_acc: 100%|██████████| 120/120 [00:14<00:00,  8.42it/s]\n",
            "/usr/local/lib/python3.10/dist-packages/ultralytics/yolo/utils/metrics.py:341: UserWarning: Glyph 4352 (\\N{HANGUL CHOSEONG KIYEOK}) missing from current font.\n",
            "  fig.savefig(plot_fname, dpi=250)\n",
            "/usr/local/lib/python3.10/dist-packages/ultralytics/yolo/utils/metrics.py:341: UserWarning: Glyph 4449 (\\N{HANGUL JUNGSEONG A}) missing from current font.\n",
            "  fig.savefig(plot_fname, dpi=250)\n",
            "/usr/local/lib/python3.10/dist-packages/ultralytics/yolo/utils/metrics.py:341: UserWarning: Glyph 4527 (\\N{HANGUL JONGSEONG RIEUL}) missing from current font.\n",
            "  fig.savefig(plot_fname, dpi=250)\n",
            "/usr/local/lib/python3.10/dist-packages/ultralytics/yolo/utils/metrics.py:341: UserWarning: Glyph 4359 (\\N{HANGUL CHOSEONG PIEUP}) missing from current font.\n",
            "  fig.savefig(plot_fname, dpi=250)\n",
            "/usr/local/lib/python3.10/dist-packages/ultralytics/yolo/utils/metrics.py:341: UserWarning: Glyph 4450 (\\N{HANGUL JUNGSEONG AE}) missing from current font.\n",
            "  fig.savefig(plot_fname, dpi=250)\n",
            "/usr/local/lib/python3.10/dist-packages/ultralytics/yolo/utils/metrics.py:341: UserWarning: Glyph 4361 (\\N{HANGUL CHOSEONG SIOS}) missing from current font.\n",
            "  fig.savefig(plot_fname, dpi=250)\n",
            "/usr/local/lib/python3.10/dist-packages/ultralytics/yolo/utils/metrics.py:341: UserWarning: Glyph 4363 (\\N{HANGUL CHOSEONG IEUNG}) missing from current font.\n",
            "  fig.savefig(plot_fname, dpi=250)\n",
            "/usr/local/lib/python3.10/dist-packages/ultralytics/yolo/utils/metrics.py:341: UserWarning: Glyph 4469 (\\N{HANGUL JUNGSEONG I}) missing from current font.\n",
            "  fig.savefig(plot_fname, dpi=250)\n",
            "/usr/local/lib/python3.10/dist-packages/ultralytics/yolo/utils/metrics.py:341: UserWarning: Glyph 4355 (\\N{HANGUL CHOSEONG TIKEUT}) missing from current font.\n",
            "  fig.savefig(plot_fname, dpi=250)\n",
            "/usr/local/lib/python3.10/dist-packages/ultralytics/yolo/utils/metrics.py:341: UserWarning: Glyph 4367 (\\N{HANGUL CHOSEONG KHIEUKH}) missing from current font.\n",
            "  fig.savefig(plot_fname, dpi=250)\n",
            "/usr/local/lib/python3.10/dist-packages/ultralytics/yolo/utils/metrics.py:341: UserWarning: Glyph 4523 (\\N{HANGUL JONGSEONG NIEUN}) missing from current font.\n",
            "  fig.savefig(plot_fname, dpi=250)\n",
            "/usr/local/lib/python3.10/dist-packages/ultralytics/yolo/utils/metrics.py:341: UserWarning: Glyph 4358 (\\N{HANGUL CHOSEONG MIEUM}) missing from current font.\n",
            "  fig.savefig(plot_fname, dpi=250)\n",
            "/usr/local/lib/python3.10/dist-packages/ultralytics/yolo/utils/metrics.py:341: UserWarning: Glyph 4467 (\\N{HANGUL JUNGSEONG EU}) missing from current font.\n",
            "  fig.savefig(plot_fname, dpi=250)\n",
            "/usr/local/lib/python3.10/dist-packages/ultralytics/yolo/utils/metrics.py:341: UserWarning: Glyph 4454 (\\N{HANGUL JUNGSEONG E}) missing from current font.\n",
            "  fig.savefig(plot_fname, dpi=250)\n",
            "/usr/local/lib/python3.10/dist-packages/ultralytics/yolo/utils/metrics.py:341: UserWarning: Glyph 4368 (\\N{HANGUL CHOSEONG THIEUTH}) missing from current font.\n",
            "  fig.savefig(plot_fname, dpi=250)\n",
            "/usr/local/lib/python3.10/dist-packages/ultralytics/yolo/utils/metrics.py:341: UserWarning: Glyph 4457 (\\N{HANGUL JUNGSEONG O}) missing from current font.\n",
            "  fig.savefig(plot_fname, dpi=250)\n",
            "/usr/local/lib/python3.10/dist-packages/ultralytics/yolo/utils/metrics.py:341: UserWarning: Glyph 4357 (\\N{HANGUL CHOSEONG RIEUL}) missing from current font.\n",
            "  fig.savefig(plot_fname, dpi=250)\n",
            "/usr/local/lib/python3.10/dist-packages/ultralytics/yolo/utils/metrics.py:341: UserWarning: Glyph 4462 (\\N{HANGUL JUNGSEONG U}) missing from current font.\n",
            "  fig.savefig(plot_fname, dpi=250)\n",
            "/usr/local/lib/python3.10/dist-packages/ultralytics/yolo/utils/metrics.py:341: UserWarning: Glyph 4354 (\\N{HANGUL CHOSEONG NIEUN}) missing from current font.\n",
            "  fig.savefig(plot_fname, dpi=250)\n",
            "/usr/local/lib/python3.10/dist-packages/ultralytics/yolo/utils/metrics.py:341: UserWarning: Glyph 4540 (\\N{HANGUL JONGSEONG IEUNG}) missing from current font.\n",
            "  fig.savefig(plot_fname, dpi=250)\n",
            "/usr/local/lib/python3.10/dist-packages/ultralytics/yolo/utils/metrics.py:341: UserWarning: Glyph 4364 (\\N{HANGUL CHOSEONG CIEUC}) missing from current font.\n",
            "  fig.savefig(plot_fname, dpi=250)\n",
            "/usr/local/lib/python3.10/dist-packages/ultralytics/yolo/utils/metrics.py:341: UserWarning: Glyph 4458 (\\N{HANGUL JUNGSEONG WA}) missing from current font.\n",
            "  fig.savefig(plot_fname, dpi=250)\n",
            "/usr/local/lib/python3.10/dist-packages/ultralytics/yolo/utils/metrics.py:341: UserWarning: Glyph 4362 (\\N{HANGUL CHOSEONG SSANGSIOS}) missing from current font.\n",
            "  fig.savefig(plot_fname, dpi=250)\n",
            "/usr/local/lib/python3.10/dist-packages/ultralytics/yolo/utils/metrics.py:341: UserWarning: Glyph 4520 (\\N{HANGUL JONGSEONG KIYEOK}) missing from current font.\n",
            "  fig.savefig(plot_fname, dpi=250)\n",
            "/usr/local/lib/python3.10/dist-packages/ultralytics/yolo/utils/metrics.py:341: UserWarning: Glyph 4464 (\\N{HANGUL JUNGSEONG WE}) missing from current font.\n",
            "  fig.savefig(plot_fname, dpi=250)\n",
            "/usr/local/lib/python3.10/dist-packages/ultralytics/yolo/utils/metrics.py:341: UserWarning: Glyph 4453 (\\N{HANGUL JUNGSEONG EO}) missing from current font.\n",
            "  fig.savefig(plot_fname, dpi=250)\n",
            "/usr/local/lib/python3.10/dist-packages/ultralytics/yolo/utils/metrics.py:341: UserWarning: Glyph 4370 (\\N{HANGUL CHOSEONG HIEUH}) missing from current font.\n",
            "  fig.savefig(plot_fname, dpi=250)\n",
            "/usr/local/lib/python3.10/dist-packages/ultralytics/yolo/utils/metrics.py:341: UserWarning: Glyph 4456 (\\N{HANGUL JUNGSEONG YE}) missing from current font.\n",
            "  fig.savefig(plot_fname, dpi=250)\n",
            "/usr/local/lib/python3.10/dist-packages/ultralytics/yolo/utils/metrics.py:341: UserWarning: Glyph 4538 (\\N{HANGUL JONGSEONG SIOS}) missing from current font.\n",
            "  fig.savefig(plot_fname, dpi=250)\n",
            "/usr/local/lib/python3.10/dist-packages/ultralytics/yolo/utils/metrics.py:341: UserWarning: Glyph 4360 (\\N{HANGUL CHOSEONG SSANGPIEUP}) missing from current font.\n",
            "  fig.savefig(plot_fname, dpi=250)\n",
            "/usr/local/lib/python3.10/dist-packages/ultralytics/yolo/utils/metrics.py:341: UserWarning: Glyph 4468 (\\N{HANGUL JUNGSEONG YI}) missing from current font.\n",
            "  fig.savefig(plot_fname, dpi=250)\n",
            "/usr/local/lib/python3.10/dist-packages/ultralytics/yolo/utils/metrics.py:341: UserWarning: Glyph 4535 (\\N{HANGUL JONGSEONG MIEUM}) missing from current font.\n",
            "  fig.savefig(plot_fname, dpi=250)\n",
            "/usr/local/lib/python3.10/dist-packages/ultralytics/yolo/utils/metrics.py:341: UserWarning: Glyph 4356 (\\N{HANGUL CHOSEONG SSANGTIKEUT}) missing from current font.\n",
            "  fig.savefig(plot_fname, dpi=250)\n",
            "/usr/local/lib/python3.10/dist-packages/ultralytics/yolo/utils/metrics.py:341: UserWarning: Glyph 4366 (\\N{HANGUL CHOSEONG CHIEUCH}) missing from current font.\n",
            "  fig.savefig(plot_fname, dpi=250)\n",
            "/usr/local/lib/python3.10/dist-packages/ultralytics/yolo/utils/metrics.py:341: UserWarning: Glyph 4369 (\\N{HANGUL CHOSEONG PHIEUPH}) missing from current font.\n",
            "  fig.savefig(plot_fname, dpi=250)\n",
            "/usr/local/lib/python3.10/dist-packages/ultralytics/yolo/utils/metrics.py:341: UserWarning: Glyph 4463 (\\N{HANGUL JUNGSEONG WEO}) missing from current font.\n",
            "  fig.savefig(plot_fname, dpi=250)\n",
            "/usr/local/lib/python3.10/dist-packages/ultralytics/yolo/utils/metrics.py:341: UserWarning: Glyph 4536 (\\N{HANGUL JONGSEONG PIEUP}) missing from current font.\n",
            "  fig.savefig(plot_fname, dpi=250)\n",
            "/usr/local/lib/python3.10/dist-packages/ultralytics/yolo/utils/metrics.py:341: UserWarning: Glyph 4352 (\\N{HANGUL CHOSEONG KIYEOK}) missing from current font.\n",
            "  fig.savefig(plot_fname, dpi=250)\n",
            "/usr/local/lib/python3.10/dist-packages/ultralytics/yolo/utils/metrics.py:341: UserWarning: Glyph 4449 (\\N{HANGUL JUNGSEONG A}) missing from current font.\n",
            "  fig.savefig(plot_fname, dpi=250)\n",
            "/usr/local/lib/python3.10/dist-packages/ultralytics/yolo/utils/metrics.py:341: UserWarning: Glyph 4527 (\\N{HANGUL JONGSEONG RIEUL}) missing from current font.\n",
            "  fig.savefig(plot_fname, dpi=250)\n",
            "/usr/local/lib/python3.10/dist-packages/ultralytics/yolo/utils/metrics.py:341: UserWarning: Glyph 4359 (\\N{HANGUL CHOSEONG PIEUP}) missing from current font.\n",
            "  fig.savefig(plot_fname, dpi=250)\n",
            "/usr/local/lib/python3.10/dist-packages/ultralytics/yolo/utils/metrics.py:341: UserWarning: Glyph 4450 (\\N{HANGUL JUNGSEONG AE}) missing from current font.\n",
            "  fig.savefig(plot_fname, dpi=250)\n",
            "/usr/local/lib/python3.10/dist-packages/ultralytics/yolo/utils/metrics.py:341: UserWarning: Glyph 4361 (\\N{HANGUL CHOSEONG SIOS}) missing from current font.\n",
            "  fig.savefig(plot_fname, dpi=250)\n",
            "/usr/local/lib/python3.10/dist-packages/ultralytics/yolo/utils/metrics.py:341: UserWarning: Glyph 4363 (\\N{HANGUL CHOSEONG IEUNG}) missing from current font.\n",
            "  fig.savefig(plot_fname, dpi=250)\n",
            "/usr/local/lib/python3.10/dist-packages/ultralytics/yolo/utils/metrics.py:341: UserWarning: Glyph 4469 (\\N{HANGUL JUNGSEONG I}) missing from current font.\n",
            "  fig.savefig(plot_fname, dpi=250)\n",
            "/usr/local/lib/python3.10/dist-packages/ultralytics/yolo/utils/metrics.py:341: UserWarning: Glyph 4355 (\\N{HANGUL CHOSEONG TIKEUT}) missing from current font.\n",
            "  fig.savefig(plot_fname, dpi=250)\n",
            "/usr/local/lib/python3.10/dist-packages/ultralytics/yolo/utils/metrics.py:341: UserWarning: Glyph 4367 (\\N{HANGUL CHOSEONG KHIEUKH}) missing from current font.\n",
            "  fig.savefig(plot_fname, dpi=250)\n",
            "/usr/local/lib/python3.10/dist-packages/ultralytics/yolo/utils/metrics.py:341: UserWarning: Glyph 4523 (\\N{HANGUL JONGSEONG NIEUN}) missing from current font.\n",
            "  fig.savefig(plot_fname, dpi=250)\n",
            "/usr/local/lib/python3.10/dist-packages/ultralytics/yolo/utils/metrics.py:341: UserWarning: Glyph 4358 (\\N{HANGUL CHOSEONG MIEUM}) missing from current font.\n",
            "  fig.savefig(plot_fname, dpi=250)\n",
            "/usr/local/lib/python3.10/dist-packages/ultralytics/yolo/utils/metrics.py:341: UserWarning: Glyph 4467 (\\N{HANGUL JUNGSEONG EU}) missing from current font.\n",
            "  fig.savefig(plot_fname, dpi=250)\n",
            "/usr/local/lib/python3.10/dist-packages/ultralytics/yolo/utils/metrics.py:341: UserWarning: Glyph 4454 (\\N{HANGUL JUNGSEONG E}) missing from current font.\n",
            "  fig.savefig(plot_fname, dpi=250)\n",
            "/usr/local/lib/python3.10/dist-packages/ultralytics/yolo/utils/metrics.py:341: UserWarning: Glyph 4368 (\\N{HANGUL CHOSEONG THIEUTH}) missing from current font.\n",
            "  fig.savefig(plot_fname, dpi=250)\n",
            "/usr/local/lib/python3.10/dist-packages/ultralytics/yolo/utils/metrics.py:341: UserWarning: Glyph 4457 (\\N{HANGUL JUNGSEONG O}) missing from current font.\n",
            "  fig.savefig(plot_fname, dpi=250)\n",
            "/usr/local/lib/python3.10/dist-packages/ultralytics/yolo/utils/metrics.py:341: UserWarning: Glyph 4357 (\\N{HANGUL CHOSEONG RIEUL}) missing from current font.\n",
            "  fig.savefig(plot_fname, dpi=250)\n",
            "/usr/local/lib/python3.10/dist-packages/ultralytics/yolo/utils/metrics.py:341: UserWarning: Glyph 4462 (\\N{HANGUL JUNGSEONG U}) missing from current font.\n",
            "  fig.savefig(plot_fname, dpi=250)\n",
            "/usr/local/lib/python3.10/dist-packages/ultralytics/yolo/utils/metrics.py:341: UserWarning: Glyph 4354 (\\N{HANGUL CHOSEONG NIEUN}) missing from current font.\n",
            "  fig.savefig(plot_fname, dpi=250)\n",
            "/usr/local/lib/python3.10/dist-packages/ultralytics/yolo/utils/metrics.py:341: UserWarning: Glyph 4540 (\\N{HANGUL JONGSEONG IEUNG}) missing from current font.\n",
            "  fig.savefig(plot_fname, dpi=250)\n",
            "/usr/local/lib/python3.10/dist-packages/ultralytics/yolo/utils/metrics.py:341: UserWarning: Glyph 4364 (\\N{HANGUL CHOSEONG CIEUC}) missing from current font.\n",
            "  fig.savefig(plot_fname, dpi=250)\n",
            "/usr/local/lib/python3.10/dist-packages/ultralytics/yolo/utils/metrics.py:341: UserWarning: Glyph 4458 (\\N{HANGUL JUNGSEONG WA}) missing from current font.\n",
            "  fig.savefig(plot_fname, dpi=250)\n",
            "/usr/local/lib/python3.10/dist-packages/ultralytics/yolo/utils/metrics.py:341: UserWarning: Glyph 4362 (\\N{HANGUL CHOSEONG SSANGSIOS}) missing from current font.\n",
            "  fig.savefig(plot_fname, dpi=250)\n",
            "/usr/local/lib/python3.10/dist-packages/ultralytics/yolo/utils/metrics.py:341: UserWarning: Glyph 4520 (\\N{HANGUL JONGSEONG KIYEOK}) missing from current font.\n",
            "  fig.savefig(plot_fname, dpi=250)\n",
            "/usr/local/lib/python3.10/dist-packages/ultralytics/yolo/utils/metrics.py:341: UserWarning: Glyph 4464 (\\N{HANGUL JUNGSEONG WE}) missing from current font.\n",
            "  fig.savefig(plot_fname, dpi=250)\n",
            "/usr/local/lib/python3.10/dist-packages/ultralytics/yolo/utils/metrics.py:341: UserWarning: Glyph 4453 (\\N{HANGUL JUNGSEONG EO}) missing from current font.\n",
            "  fig.savefig(plot_fname, dpi=250)\n",
            "/usr/local/lib/python3.10/dist-packages/ultralytics/yolo/utils/metrics.py:341: UserWarning: Glyph 4370 (\\N{HANGUL CHOSEONG HIEUH}) missing from current font.\n",
            "  fig.savefig(plot_fname, dpi=250)\n",
            "/usr/local/lib/python3.10/dist-packages/ultralytics/yolo/utils/metrics.py:341: UserWarning: Glyph 4456 (\\N{HANGUL JUNGSEONG YE}) missing from current font.\n",
            "  fig.savefig(plot_fname, dpi=250)\n",
            "/usr/local/lib/python3.10/dist-packages/ultralytics/yolo/utils/metrics.py:341: UserWarning: Glyph 4538 (\\N{HANGUL JONGSEONG SIOS}) missing from current font.\n",
            "  fig.savefig(plot_fname, dpi=250)\n",
            "/usr/local/lib/python3.10/dist-packages/ultralytics/yolo/utils/metrics.py:341: UserWarning: Glyph 4360 (\\N{HANGUL CHOSEONG SSANGPIEUP}) missing from current font.\n",
            "  fig.savefig(plot_fname, dpi=250)\n",
            "/usr/local/lib/python3.10/dist-packages/ultralytics/yolo/utils/metrics.py:341: UserWarning: Glyph 4468 (\\N{HANGUL JUNGSEONG YI}) missing from current font.\n",
            "  fig.savefig(plot_fname, dpi=250)\n",
            "/usr/local/lib/python3.10/dist-packages/ultralytics/yolo/utils/metrics.py:341: UserWarning: Glyph 4535 (\\N{HANGUL JONGSEONG MIEUM}) missing from current font.\n",
            "  fig.savefig(plot_fname, dpi=250)\n",
            "/usr/local/lib/python3.10/dist-packages/ultralytics/yolo/utils/metrics.py:341: UserWarning: Glyph 4356 (\\N{HANGUL CHOSEONG SSANGTIKEUT}) missing from current font.\n",
            "  fig.savefig(plot_fname, dpi=250)\n",
            "/usr/local/lib/python3.10/dist-packages/ultralytics/yolo/utils/metrics.py:341: UserWarning: Glyph 4366 (\\N{HANGUL CHOSEONG CHIEUCH}) missing from current font.\n",
            "  fig.savefig(plot_fname, dpi=250)\n",
            "/usr/local/lib/python3.10/dist-packages/ultralytics/yolo/utils/metrics.py:341: UserWarning: Glyph 4369 (\\N{HANGUL CHOSEONG PHIEUPH}) missing from current font.\n",
            "  fig.savefig(plot_fname, dpi=250)\n",
            "/usr/local/lib/python3.10/dist-packages/ultralytics/yolo/utils/metrics.py:341: UserWarning: Glyph 4463 (\\N{HANGUL JUNGSEONG WEO}) missing from current font.\n",
            "  fig.savefig(plot_fname, dpi=250)\n",
            "/usr/local/lib/python3.10/dist-packages/ultralytics/yolo/utils/metrics.py:341: UserWarning: Glyph 4536 (\\N{HANGUL JONGSEONG PIEUP}) missing from current font.\n",
            "  fig.savefig(plot_fname, dpi=250)\n",
            "                   all     0.0697      0.324\n",
            "\n",
            "1 epochs completed in 0.020 hours.\n",
            "Optimizer stripped from runs/classify/train/weights/last.pt, 3.1MB\n",
            "Optimizer stripped from runs/classify/train/weights/best.pt, 3.1MB\n",
            "Results saved to \u001b[1mruns/classify/train\u001b[0m\n"
          ]
        }
      ]
    },
    {
      "cell_type": "code",
      "source": [
        "model.predict('/content/CanDataset/test/갈배사이다 캔/naver_0018.jpg')"
      ],
      "metadata": {
        "colab": {
          "base_uri": "https://localhost:8080/"
        },
        "id": "bN00qjODIhBn",
        "outputId": "8f502b1b-6eca-4db7-80d0-18ce74efa723"
      },
      "execution_count": 9,
      "outputs": [
        {
          "output_type": "stream",
          "name": "stderr",
          "text": [
            "\n",
            "image 1/1 /content/CanDataset/test/갈배사이다 캔/naver_0018.jpg: 32x32 갈아만든배 캔  0.07, 데자와 캔 0.07, 비락식혜 캔 0.06, 조지아 맥스 캔 0.05, 코카콜라 캔 0.04, 4.2ms\n",
            "Speed: 1.0ms preprocess, 4.2ms inference, 0.1ms postprocess per image at shape (1, 3, 32, 32)\n"
          ]
        },
        {
          "output_type": "execute_result",
          "data": {
            "text/plain": [
              "[ultralytics.yolo.engine.results.Results object with attributes:\n",
              " \n",
              " boxes: None\n",
              " keypoints: None\n",
              " keys: ['probs']\n",
              " masks: None\n",
              " names: {0: '갈배사이다 캔', 1: '갈아만든배 캔 ', 2: '게토레이 캔', 3: '구론산 캔', 4: '나랑드사이다 캔', 5: '데미소다 캔', 6: '데자와 캔', 7: '레쓰비 캔', 8: '맥스웰 캔', 9: '맥콜 캔', 10: '몬스터 캔', 11: '밀키스 캔', 12: '봉봉 캔', 13: '비락식혜 캔', 14: '삿뽀로 캔', 15: '솔의눈 캔', 16: '아사히 캔', 17: '암바사 캔', 18: '오라떼 캔', 19: '자몽소다 캔', 20: '조지아 맥스 캔', 21: '칠성사이다 캔', 22: '칭따오 캔', 23: '카스 캔', 24: '칸타타 캔', 25: '컨피던스 캔', 26: '코카콜라 캔', 27: '코코팜 캔', 28: '킨사이다 캔', 29: '테라 캔', 30: '토레타 캔', 31: '트로피카나 캔', 32: '파워에이드 캔', 33: '펩시 캔', 34: '포카리스웨트 캔', 35: '하이네켄 캔', 36: '하이트 캔', 37: '핫식스 캔', 38: '환타 캔'}\n",
              " orig_img: array([[[255, 255, 255],\n",
              "         [255, 255, 255],\n",
              "         [255, 255, 255],\n",
              "         ...,\n",
              "         [255, 255, 255],\n",
              "         [255, 255, 255],\n",
              "         [255, 255, 255]],\n",
              " \n",
              "        [[255, 255, 255],\n",
              "         [255, 255, 255],\n",
              "         [255, 255, 255],\n",
              "         ...,\n",
              "         [255, 255, 255],\n",
              "         [255, 255, 255],\n",
              "         [255, 255, 255]],\n",
              " \n",
              "        [[255, 255, 255],\n",
              "         [255, 255, 255],\n",
              "         [255, 255, 255],\n",
              "         ...,\n",
              "         [255, 255, 255],\n",
              "         [255, 255, 255],\n",
              "         [255, 255, 255]],\n",
              " \n",
              "        ...,\n",
              " \n",
              "        [[255, 255, 255],\n",
              "         [255, 255, 255],\n",
              "         [255, 255, 255],\n",
              "         ...,\n",
              "         [255, 255, 255],\n",
              "         [255, 255, 255],\n",
              "         [255, 255, 255]],\n",
              " \n",
              "        [[255, 255, 255],\n",
              "         [255, 255, 255],\n",
              "         [255, 255, 255],\n",
              "         ...,\n",
              "         [255, 255, 255],\n",
              "         [255, 255, 255],\n",
              "         [255, 255, 255]],\n",
              " \n",
              "        [[255, 255, 255],\n",
              "         [255, 255, 255],\n",
              "         [255, 255, 255],\n",
              "         ...,\n",
              "         [255, 255, 255],\n",
              "         [255, 255, 255],\n",
              "         [255, 255, 255]]], dtype=uint8)\n",
              " orig_shape: (377, 340)\n",
              " path: '/content/CanDataset/test/갈배사이다 캔/naver_0018.jpg'\n",
              " probs: tensor([0.0364, 0.0690, 0.0180, 0.0135, 0.0092, 0.0314, 0.0658, 0.0089, 0.0285, 0.0149, 0.0173, 0.0182, 0.0217, 0.0581, 0.0299, 0.0337, 0.0313, 0.0118, 0.0212, 0.0407, 0.0513, 0.0107, 0.0309, 0.0103, 0.0338, 0.0355, 0.0408, 0.0299, 0.0102, 0.0138, 0.0290, 0.0271, 0.0072, 0.0092, 0.0091, 0.0147, 0.0134, 0.0098, 0.0339],\n",
              "        device='cuda:0')\n",
              " speed: {'preprocess': 1.0330677032470703, 'inference': 4.222393035888672, 'postprocess': 0.1494884490966797}]"
            ]
          },
          "metadata": {},
          "execution_count": 9
        }
      ]
    },
    {
      "cell_type": "code",
      "source": [
        "model.export(format= 'onnx')"
      ],
      "metadata": {
        "colab": {
          "base_uri": "https://localhost:8080/",
          "height": 596
        },
        "id": "PQmP_xxDLNwK",
        "outputId": "185d5e41-7f81-4fd3-cb20-b55e701b6c4e"
      },
      "execution_count": 10,
      "outputs": [
        {
          "output_type": "stream",
          "name": "stderr",
          "text": [
            "Ultralytics YOLOv8.0.108 🚀 Python-3.10.11 torch-2.0.1+cu118 CPU\n",
            "\n",
            "\u001b[34m\u001b[1mPyTorch:\u001b[0m starting from runs/classify/train/weights/best.pt with input shape (16, 3, 32, 32) BCHW and output shape(s) (16, 39) (2.9 MB)\n",
            "\u001b[31m\u001b[1mrequirements:\u001b[0m Ultralytics requirement \"onnx>=1.12.0\" not found, attempting AutoUpdate...\n",
            "Looking in indexes: https://pypi.org/simple, https://us-python.pkg.dev/colab-wheels/public/simple/\n",
            "Collecting onnx>=1.12.0\n",
            "  Downloading onnx-1.14.0-cp310-cp310-manylinux_2_17_x86_64.manylinux2014_x86_64.whl (14.6 MB)\n",
            "     ━━━━━━━━━━━━━━━━━━━━━━━━━━━━━━━━━━━━━━━ 14.6/14.6 MB 149.0 MB/s eta 0:00:00\n",
            "Requirement already satisfied: numpy in /usr/local/lib/python3.10/dist-packages (from onnx>=1.12.0) (1.22.4)\n",
            "Requirement already satisfied: protobuf>=3.20.2 in /usr/local/lib/python3.10/dist-packages (from onnx>=1.12.0) (3.20.3)\n",
            "Requirement already satisfied: typing-extensions>=3.6.2.1 in /usr/local/lib/python3.10/dist-packages (from onnx>=1.12.0) (4.5.0)\n",
            "Installing collected packages: onnx\n",
            "Successfully installed onnx-1.14.0\n",
            "\n",
            "\u001b[31m\u001b[1mrequirements:\u001b[0m 1 package updated per ['onnx>=1.12.0']\n",
            "\u001b[31m\u001b[1mrequirements:\u001b[0m ⚠️ \u001b[1mRestart runtime or rerun command for updates to take effect\u001b[0m\n",
            "\n",
            "\n",
            "\u001b[34m\u001b[1mONNX:\u001b[0m starting export with onnx 1.14.0 opset 17...\n",
            "\u001b[34m\u001b[1mONNX:\u001b[0m export success ✅ 15.7s, saved as runs/classify/train/weights/best.onnx (5.7 MB)\n",
            "\n",
            "Export complete (15.9s)\n",
            "Results saved to \u001b[1m/content/runs/classify/train/weights\u001b[0m\n",
            "Predict:         yolo predict task=classify model=runs/classify/train/weights/best.onnx imgsz=32 \n",
            "Validate:        yolo val task=classify model=runs/classify/train/weights/best.onnx imgsz=32 data=/content/CanDataset/ \n",
            "Visualize:       https://netron.app\n"
          ]
        },
        {
          "output_type": "stream",
          "name": "stdout",
          "text": [
            "============= Diagnostic Run torch.onnx.export version 2.0.1+cu118 =============\n",
            "verbose: False, log level: Level.ERROR\n",
            "======================= 0 NONE 0 NOTE 0 WARNING 0 ERROR ========================\n",
            "\n"
          ]
        },
        {
          "output_type": "execute_result",
          "data": {
            "text/plain": [
              "'runs/classify/train/weights/best.onnx'"
            ],
            "application/vnd.google.colaboratory.intrinsic+json": {
              "type": "string"
            }
          },
          "metadata": {},
          "execution_count": 10
        }
      ]
    }
  ]
}