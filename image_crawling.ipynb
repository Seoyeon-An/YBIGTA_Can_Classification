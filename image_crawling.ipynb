{
 "cells": [
  {
   "cell_type": "code",
   "execution_count": 17,
   "metadata": {},
   "outputs": [],
   "source": [
    "from bs4 import BeautifulSoup\n",
    "import selenium\n",
    "from selenium import webdriver\n",
    "import pandas as pd\n",
    "import time\n",
    "from selenium.webdriver.common.by import By\n",
    "from selenium.webdriver.common.keys import Keys\n",
    "import urllib.request\n",
    "import os"
   ]
  },
  {
   "cell_type": "code",
   "execution_count": 18,
   "metadata": {},
   "outputs": [],
   "source": [
    "can_name = '코카콜라 캔'"
   ]
  },
  {
   "cell_type": "code",
   "execution_count": 19,
   "metadata": {},
   "outputs": [],
   "source": [
    "path = \"C:/Users/user/Desktop/can_classification/images/\" + can_name + '/' #저장할 경로\n",
    "os.makedirs(path)"
   ]
  },
  {
   "cell_type": "code",
   "execution_count": 20,
   "metadata": {},
   "outputs": [],
   "source": [
    "driver = webdriver.Chrome()"
   ]
  },
  {
   "cell_type": "code",
   "execution_count": 21,
   "metadata": {},
   "outputs": [],
   "source": [
    "url = 'https://www.google.co.kr/imghp?hl=en&authuser=0&ogbl' # 구글 이미지 검색 사이트\n",
    "driver.get(url)"
   ]
  },
  {
   "cell_type": "code",
   "execution_count": 22,
   "metadata": {},
   "outputs": [],
   "source": [
    "search = driver.find_element(By.XPATH, '//*[@id=\"APjFqb\"]')\n",
    "search.send_keys(can_name)\n",
    "search.send_keys(Keys.RETURN)\n",
    "time.sleep(3)"
   ]
  },
  {
   "cell_type": "code",
   "execution_count": 23,
   "metadata": {},
   "outputs": [],
   "source": [
    "last_height = driver.execute_script(\"return document.body.scrollHeight\")  # 브라우저의 높이를 자바스크립트로 찾음\n",
    "while True:\n",
    "    # Scroll down to bottom\n",
    "    driver.execute_script(\"window.scrollTo(0, document.body.scrollHeight);\")  # 브라우저 끝까지 스크롤을 내림\n",
    "    # Wait to load page\n",
    "    time.sleep(3)\n",
    "    # Calculate new scroll height and compare with last scroll height\n",
    "    new_height = driver.execute_script(\"return document.body.scrollHeight\")\n",
    "    if new_height == last_height:\n",
    "        try:\n",
    "             driver.find_element(By.XPATH,'//*[@id=\"islmp\"]/div/div/div/div[2]/div[1]/div[2]/div[2]/input').click()\n",
    "             time.sleep(2)#스크롤을 내리다 보면 \"결과 더보기\"가 뜨는 경우 이를 클릭해준다\n",
    "        except:\n",
    "            break\n",
    "    last_height = new_height"
   ]
  },
  {
   "cell_type": "code",
   "execution_count": 24,
   "metadata": {},
   "outputs": [
    {
     "ename": "TypeError",
     "evalue": "unsupported operand type(s) for +: 'int' and 'str'",
     "output_type": "error",
     "traceback": [
      "\u001b[1;31m---------------------------------------------------------------------------\u001b[0m",
      "\u001b[1;31mTypeError\u001b[0m                                 Traceback (most recent call last)",
      "Cell \u001b[1;32mIn[24], line 17\u001b[0m\n\u001b[0;32m     13\u001b[0m     \u001b[39mexcept\u001b[39;00m:\n\u001b[0;32m     14\u001b[0m         \u001b[39mpass\u001b[39;00m\n\u001b[1;32m---> 17\u001b[0m \u001b[39mprint\u001b[39m(count \u001b[39m+\u001b[39;49m \u001b[39m'\u001b[39;49m\u001b[39m개의 이미지가 저장되었습니다.\u001b[39;49m\u001b[39m'\u001b[39;49m)\n",
      "\u001b[1;31mTypeError\u001b[0m: unsupported operand type(s) for +: 'int' and 'str'"
     ]
    }
   ],
   "source": [
    "img_elements = driver.find_elements(By.CSS_SELECTOR,\".rg_i\")\n",
    "\n",
    "count = 0\n",
    "\n",
    "for img in img_elements:\n",
    "    try:\n",
    "        img.click()\n",
    "        time.sleep(0.5)\n",
    "        imgUrl = driver.find_element(By.XPATH, '//*[@id=\"Sva75c\"]/div[2]/div/div[2]/div[2]/div[2]/c-wiz/div/div/div/div[3]/div[1]/a/img').get_attribute(\"src\")\n",
    "    \n",
    "        urllib.request.urlretrieve(imgUrl, path + can_name + str(count) + \".jpg\")\n",
    "        count += 1\n",
    "    except:\n",
    "        pass\n",
    "    \n",
    "\n",
    "print(str(count) + '개의 이미지가 저장되었습니다.')"
   ]
  }
 ],
 "metadata": {
  "kernelspec": {
   "display_name": "base",
   "language": "python",
   "name": "python3"
  },
  "language_info": {
   "codemirror_mode": {
    "name": "ipython",
    "version": 3
   },
   "file_extension": ".py",
   "mimetype": "text/x-python",
   "name": "python",
   "nbconvert_exporter": "python",
   "pygments_lexer": "ipython3",
   "version": "3.8.16"
  },
  "orig_nbformat": 4
 },
 "nbformat": 4,
 "nbformat_minor": 2
}
