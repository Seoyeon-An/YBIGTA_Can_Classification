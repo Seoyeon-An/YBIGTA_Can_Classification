{
 "cells": [
  {
   "cell_type": "code",
   "execution_count": 19,
   "metadata": {},
   "outputs": [],
   "source": [
    "import albumentations as A\n",
    "import random\n",
    "import cv2"
   ]
  },
  {
   "cell_type": "code",
   "execution_count": 20,
   "metadata": {},
   "outputs": [
    {
     "name": "stdout",
     "output_type": "stream",
     "text": [
      "['환타 캔', '트로피카나 캔', '데미소다 캔', '하이네켄 캔', '핫식스 캔', '나랑드사이다 캔', '봉봉 캔', '조지아 맥스 캔', '게토레이 캔', '코코팜 캔', '테라 캔', '오라떼 캔', '비락식혜 캔', '포카리스웨트 캔', '삿뽀로 캔', '킨사이다 캔', '칠성사이다 캔', '데자와 캔', '칭따오 캔', '갈배사이다캔', '솔의눈 캔', '자몽소다 캔', '칸타타 캔', '밀키스 캔', '컨피던스 캔', '아사히 캔', '암바사 캔', '펩시 캔', '갈아만든배 캔 ', '하이트 캔', '맥콜 캔', '몬스터 캔', '구론산 캔', '코카콜라 캔', '맥스웰 캔', '카스 캔', '토레타 캔', '레쓰비 캔', '파워에이드 캔']\n"
     ]
    }
   ],
   "source": [
    "# 디렉토리 이름 반환\n",
    "import os\n",
    "path = \"./download\" # (준호) 현재 파일과 같은 경로의 download 폴더 안에 모든 이미지 있음\n",
    "files = os.listdir(path)\n",
    "files_dir = [f for f in files if os.path.isdir(os.path.join(path, f))] #모든 캔 이름\n",
    "print(files_dir) "
   ]
  },
  {
   "cell_type": "code",
   "execution_count": 21,
   "metadata": {},
   "outputs": [
    {
     "ename": "KeyboardInterrupt",
     "evalue": "",
     "output_type": "error",
     "traceback": [
      "\u001b[0;31m---------------------------------------------------------------------------\u001b[0m",
      "\u001b[0;31mKeyboardInterrupt\u001b[0m                         Traceback (most recent call last)",
      "Cell \u001b[0;32mIn[21], line 41\u001b[0m\n\u001b[1;32m     38\u001b[0m                 img_path_list\u001b[39m.\u001b[39mappend(img_path)\n\u001b[1;32m     40\u001b[0m \u001b[39mfor\u001b[39;00m j \u001b[39min\u001b[39;00m \u001b[39mrange\u001b[39m(\u001b[39mlen\u001b[39m(img_path_list)):\n\u001b[0;32m---> 41\u001b[0m     image \u001b[39m=\u001b[39m cv2\u001b[39m.\u001b[39;49mimread(img_path_list[j])\n\u001b[1;32m     42\u001b[0m     image \u001b[39m=\u001b[39m cv2\u001b[39m.\u001b[39mcvtColor(image, cv2\u001b[39m.\u001b[39mCOLOR_BGR2RGB)\n\u001b[1;32m     43\u001b[0m     transformed_image \u001b[39m=\u001b[39m transform(image\u001b[39m=\u001b[39mimage)[\u001b[39m'\u001b[39m\u001b[39mimage\u001b[39m\u001b[39m'\u001b[39m]\n",
      "\u001b[0;31mKeyboardInterrupt\u001b[0m: "
     ]
    }
   ],
   "source": [
    "transform_list = [] # 무작위 transform 담을 list  \n",
    "\n",
    "for k in range(100): # 무작위 transform 100번 시행 \n",
    "    \n",
    "    hp = round(random.uniform(0,1),1)\n",
    "    rc = round(random.uniform(0,1),1)\n",
    "    hw = random.randint(20,32)\n",
    "    cj = round(random.uniform(0,1),1)\n",
    "    bright = round(random.uniform(0,1),1)\n",
    "    contrast = round(random.uniform(0,1),1)\n",
    "    saturation = round(random.uniform(0,1),1)\n",
    "    hue = round(random.uniform(0,1),1)\n",
    "    \n",
    "    \n",
    "    transform = A.Compose([\n",
    "    A.HorizontalFlip(p=hp),\n",
    "    A.RandomCrop(height=hw, width=hw, always_apply=False, p=rc),\n",
    "    A.ColorJitter(brightness=bright, contrast=contrast, saturation=saturation, hue=hue, always_apply=False, p=cj)\n",
    "    ])\n",
    "\n",
    "    transform_list.append(transform)\n",
    "    \n",
    "    # 디렉토리 생성\n",
    "    for i in files_dir: \n",
    "        root_dir = f'./download/{i}' # 디렉토리\n",
    "    \n",
    "        img_path_list = [] # 모든 이미지 경로 담을 리스트\n",
    "        possible_img_extension = ['.jpg', '.jpeg', '.JPG', '.bmp', '.png'] # 이미지 확장자들\n",
    "        \n",
    "        for (root, dirs, files) in os.walk(root_dir):\n",
    "            if len(files) > 0:\n",
    "                for file_name in files:\n",
    "                    if os.path.splitext(file_name)[1] in possible_img_extension:\n",
    "                        img_path = root + '/' + file_name\n",
    "                        \n",
    "                        # 경로에서 \\를 모두 /로 바꿔줘야함\n",
    "                        img_path = img_path.replace('\\\\', '/') # \\는 \\\\로 나타내야함         \n",
    "                        img_path_list.append(img_path)\n",
    "        \n",
    "        for j in range(len(img_path_list)):\n",
    "            image = cv2.imread(img_path_list[j])\n",
    "            image = cv2.cvtColor(image, cv2.COLOR_BGR2RGB)\n",
    "            transformed_image = transform(image=image)['image']\n",
    "            augmented_image = cv2.cvtColor(transformed_image, cv2.COLOR_RGB2BGR)\n",
    "            cv2.imwrite(f'./augmentated_images/transform{k}/{i}/augmented_{j+1}.jpg', augmented_image) # 예시 : augmented_images/transform18/환타캔/augmented_259.jpg\n",
    "                          \n",
    "\n",
    "    \n",
    "    \n"
   ]
  },
  {
   "cell_type": "code",
   "execution_count": 6,
   "metadata": {},
   "outputs": [],
   "source": [
    "for i in range(len(img_path_list)):\n",
    "    image = cv2.imread(img_path_list[i])\n",
    "    image = cv2.cvtColor(image, cv2.COLOR_BGR2RGB)\n",
    "    transformed_image = transform(image=image)['image']\n",
    "    augmented_image = cv2.cvtColor(transformed_image, cv2.COLOR_RGB2BGR)\n",
    "    cv2.imwrite(f'./augmentated_images/transform{k}/files_dir[{i}]/augmented_{i+1}.jpg', augmented_image)"
   ]
  },
  {
   "cell_type": "code",
   "execution_count": null,
   "metadata": {},
   "outputs": [],
   "source": []
  }
 ],
 "metadata": {
  "kernelspec": {
   "display_name": "Python 3",
   "language": "python",
   "name": "python3"
  },
  "language_info": {
   "codemirror_mode": {
    "name": "ipython",
    "version": 3
   },
   "file_extension": ".py",
   "mimetype": "text/x-python",
   "name": "python",
   "nbconvert_exporter": "python",
   "pygments_lexer": "ipython3",
   "version": "3.10.9"
  },
  "orig_nbformat": 4
 },
 "nbformat": 4,
 "nbformat_minor": 2
}
