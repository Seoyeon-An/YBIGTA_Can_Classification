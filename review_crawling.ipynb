{
 "cells": [
  {
   "cell_type": "code",
   "execution_count": 42,
   "id": "4819b156",
   "metadata": {},
   "outputs": [],
   "source": [
    "from bs4 import BeautifulSoup\n",
    "import selenium\n",
    "from selenium import webdriver\n",
    "import pandas as pd\n",
    "import time"
   ]
  },
  {
   "cell_type": "code",
   "execution_count": 20,
   "id": "40a89892",
   "metadata": {},
   "outputs": [],
   "source": [
    "driver = webdriver.Chrome()"
   ]
  },
  {
   "cell_type": "code",
   "execution_count": 43,
   "id": "c8167eb7",
   "metadata": {},
   "outputs": [],
   "source": [
    "# 데스노트 서울 2023\n",
    "url = 'https://tickets.interpark.com/goods/23002291?app_tapbar_state=hide&'\n",
    "driver.get(url)"
   ]
  },
  {
   "cell_type": "code",
   "execution_count": 34,
   "id": "999feb64",
   "metadata": {},
   "outputs": [],
   "source": [
    "from selenium.webdriver.common.by import By\n",
    "from selenium.webdriver.common.keys import Keys"
   ]
  },
  {
   "cell_type": "code",
   "execution_count": 44,
   "id": "38d853f9",
   "metadata": {},
   "outputs": [],
   "source": [
    "close = driver.find_element(By.XPATH, '//*[@id=\"popup-prdGuide\"]/div/div[3]/button')\n",
    "close.click()"
   ]
  },
  {
   "cell_type": "code",
   "execution_count": 45,
   "id": "c3520c56",
   "metadata": {},
   "outputs": [],
   "source": [
    "review = driver.find_element(By.XPATH, '//*[@id=\"productMainBody\"]/nav/div/div/ul/li[4]/a')\n",
    "review.click()"
   ]
  },
  {
   "cell_type": "code",
   "execution_count": 46,
   "id": "f1f3cda3",
   "metadata": {},
   "outputs": [],
   "source": [
    "def review_crawller(driver_):\n",
    "    \n",
    "    columns = ['rate', 'review_title', 'review_text', 'review_date']\n",
    "    values = []\n",
    "    soup = BeautifulSoup(driver_.page_source, 'lxml')\n",
    "\n",
    "    data_rows = soup.find_all('li', attrs={'class':'bbsItem'})[2:] # best review 중복 집계 막기 위해 처음 2개 제외\n",
    "    for row in data_rows:\n",
    "        blank = []\n",
    "        rate = row.find('div', attrs={'class':'prdStarIcon'})\n",
    "        if rate:\n",
    "            rate = rate['data-star'].strip()\n",
    "            blank.append(rate)\n",
    "        else:\n",
    "            #print(\"<평점 없는 리뷰 제외합니다>\")\n",
    "            continue\n",
    "        \n",
    "        review_title = row.find('strong', attrs={'class':'bbsTitleText'})\n",
    "        if review_title:\n",
    "            review_title = review_title.get_text()\n",
    "            blank.append(review_title)\n",
    "        else:\n",
    "            #print(\"<리뷰제목 없는 리뷰 제외합니다>\")\n",
    "            continue\n",
    "\n",
    "        review_text = row.find('p', attrs={'class':'bbsText'})\n",
    "        if review_text:\n",
    "            review_text = review_text.get_text().strip()\n",
    "            review_text = review_text.replace('\\r', ' ') #줄바꿈 \\r 표시 공백으로 변환\n",
    "            blank.append(review_text)\n",
    "        else:\n",
    "            #print(\"<리뷰내용 없는 리뷰 제외합니다>\")\n",
    "            continue\n",
    "        \n",
    "        date = row.find_all('li', attrs={'class':'bbsItemInfoList'})[1]\n",
    "        if date:\n",
    "            date = date.get_text()\n",
    "            blank.append(date)\n",
    "        else:\n",
    "            #print(\"<작성날짜 없는 리뷰 제외합니다>\")\n",
    "            continue\n",
    "        \n",
    "        values.append(blank)\n",
    "        \n",
    "    df = pd.DataFrame(values, columns = columns)\n",
    "    df['musical_title'] = '데스노트'\n",
    "    df = df[['musical_title', 'rate', 'review_title', 'review_text', 'review_date']]\n",
    "    \n",
    "    return df"
   ]
  },
  {
   "cell_type": "code",
   "execution_count": 187,
   "id": "3728452f",
   "metadata": {},
   "outputs": [
    {
     "data": {
      "text/plain": [
       "'데스노트 작년부터 회전돌고 있어요지방사람인데도 데스노트 관극하러한달에  3~4번 서울에 갑니다이번달도 3번가고 담달에도 3번갈 예정입니다안보신분 있다면 꼭 보시라고 말씀드리고싶네요'"
      ]
     },
     "execution_count": 187,
     "metadata": {},
     "output_type": "execute_result"
    }
   ],
   "source": [
    "# df.review_text[1] # 짱 긴데 다 나왔음! 근데 문장 줄바꿈이 \\r로 표시가 안된 텍스트는 문장끼리 이어지는 참사가.."
   ]
  },
  {
   "cell_type": "code",
   "execution_count": 47,
   "id": "39e7cfba",
   "metadata": {},
   "outputs": [],
   "source": [
    "soup = BeautifulSoup(driver.page_source, 'lxml')\n",
    "num_page = int(soup.find('span', {'class': 'num'}).get_text())//15\n",
    "num_last_list = int(soup.find('span', {'class': 'num'}).get_text())%15"
   ]
  },
  {
   "cell_type": "code",
   "execution_count": 48,
   "id": "2b1c6312",
   "metadata": {},
   "outputs": [
    {
     "name": "stdout",
     "output_type": "stream",
     "text": [
      "86\n",
      "0\n"
     ]
    }
   ],
   "source": [
    "print(num_page)\n",
    "print(num_last_list)"
   ]
  },
  {
   "cell_type": "code",
   "execution_count": 49,
   "id": "fed77a96",
   "metadata": {},
   "outputs": [
    {
     "name": "stdout",
     "output_type": "stream",
     "text": [
      "2 / 86\n",
      "3 / 86\n",
      "4 / 86\n",
      "5 / 86\n",
      "6 / 86\n",
      "7 / 86\n",
      "8 / 86\n",
      "9 / 86\n",
      "10 / 86\n",
      "12 / 86\n",
      "13 / 86\n",
      "14 / 86\n",
      "15 / 86\n",
      "16 / 86\n",
      "17 / 86\n",
      "18 / 86\n",
      "19 / 86\n",
      "20 / 86\n",
      "22 / 86\n",
      "23 / 86\n",
      "24 / 86\n",
      "25 / 86\n",
      "26 / 86\n",
      "27 / 86\n",
      "28 / 86\n",
      "29 / 86\n",
      "30 / 86\n"
     ]
    }
   ],
   "source": [
    "review_list = []\n",
    "\n",
    "# general case\n",
    "for k in range((num_page//10)+1):\n",
    "    try:\n",
    "        # 첫 번째 페이지 크롤링\n",
    "        print(k*10+1)\n",
    "        for j in range(15):\n",
    "            more = driver.find_element(By.XPATH, '//*[@id=\"prdReview\"]/div/div[4]/ul/li[{}]/div/div[2]/div[1]/a/i'.format(j+1))\n",
    "            more.click()\n",
    "        \n",
    "        review_list.append(review_crawller(driver))\n",
    "\n",
    "        # 2~10번째 페이지 크롤링\n",
    "        for i in range(2, 11):\n",
    "            print(k*10+i, '/', num_page)\n",
    "            next_page = driver.find_element(By.XPATH, '//*[@id=\"prdReview\"]/div/div[4]/div[2]/ol/li[{}]/a'.format(i))\n",
    "            next_page.click()\n",
    "            time.sleep(0.5)\n",
    "            \n",
    "            for j in range(15):\n",
    "                try:                    \n",
    "                    more = driver.find_element(By.XPATH, '//*[@id=\"prdReview\"]/div/div[4]/ul/li[{}]/div/div[2]/div[1]/a/i'.format(j+1))\n",
    "                    more.click()\n",
    "                except:\n",
    "                    pass\n",
    "            \n",
    "            review_list.append(review_crawller(driver))\n",
    "\n",
    "        # 다음 열 개 페이지 로딩\n",
    "        # 그런데 1-10에서 11-20으로 넘어가는 것만 좀 case가 달라서 따로 처리해줌\n",
    "        if k == 0:\n",
    "            next_ten = driver.find_element(By.XPATH, '//*[@id=\"prdReview\"]/div/div[4]/div[2]/a')\n",
    "            next_ten.click()\n",
    "            time.sleep(0.5)\n",
    "        else:\n",
    "            next_ten = driver.find_element(By.XPATH, '//*[@id=\"prdReview\"]/div/div[4]/div[2]/a[2]')\n",
    "            next_ten.click()\n",
    "            time.sleep(0.5)\n",
    "    except:\n",
    "        pass\n"
   ]
  },
  {
   "cell_type": "code",
   "execution_count": 41,
   "id": "b97c377e",
   "metadata": {},
   "outputs": [
    {
     "data": {
      "text/plain": [
       "20"
      ]
     },
     "execution_count": 41,
     "metadata": {},
     "output_type": "execute_result"
    }
   ],
   "source": [
    "len(review_list)"
   ]
  },
  {
   "cell_type": "code",
   "execution_count": 265,
   "id": "3fa6ef38",
   "metadata": {},
   "outputs": [
    {
     "data": {
      "text/html": [
       "<div>\n",
       "<style scoped>\n",
       "    .dataframe tbody tr th:only-of-type {\n",
       "        vertical-align: middle;\n",
       "    }\n",
       "\n",
       "    .dataframe tbody tr th {\n",
       "        vertical-align: top;\n",
       "    }\n",
       "\n",
       "    .dataframe thead th {\n",
       "        text-align: right;\n",
       "    }\n",
       "</style>\n",
       "<table border=\"1\" class=\"dataframe\">\n",
       "  <thead>\n",
       "    <tr style=\"text-align: right;\">\n",
       "      <th></th>\n",
       "      <th>musical_title</th>\n",
       "      <th>rate</th>\n",
       "      <th>review_title</th>\n",
       "      <th>review_text</th>\n",
       "      <th>review_date</th>\n",
       "    </tr>\n",
       "  </thead>\n",
       "  <tbody>\n",
       "    <tr>\n",
       "      <th>0</th>\n",
       "      <td>데스노트</td>\n",
       "      <td>5</td>\n",
       "      <td>데스노트 재밌어요</td>\n",
       "      <td>정말 재미있는 작품이에요~유일하게 회전돌고있는 뮤지컬입니다!!!</td>\n",
       "      <td>2023.05.05</td>\n",
       "    </tr>\n",
       "    <tr>\n",
       "      <th>1</th>\n",
       "      <td>데스노트</td>\n",
       "      <td>5</td>\n",
       "      <td>데스노트 최고입니다!!!</td>\n",
       "      <td>데스노트 작년부터 회전돌고 있어요지방사람인데도 데스노트 관극하러한달에  3~4번 서...</td>\n",
       "      <td>2023.05.05</td>\n",
       "    </tr>\n",
       "    <tr>\n",
       "      <th>2</th>\n",
       "      <td>데스노트</td>\n",
       "      <td>5</td>\n",
       "      <td>뮤지컬데스노트</td>\n",
       "      <td>뮤지컬데스노트 마지막 라잇홍 보세요홍광호 김성철 장지후 장은아 류인아 배우님들 다 ...</td>\n",
       "      <td>2023.05.05</td>\n",
       "    </tr>\n",
       "    <tr>\n",
       "      <th>3</th>\n",
       "      <td>데스노트</td>\n",
       "      <td>5</td>\n",
       "      <td>김준수 배우님 최고</td>\n",
       "      <td>데스노트 샤엘 너무 좋아요!!</td>\n",
       "      <td>2023.05.05</td>\n",
       "    </tr>\n",
       "    <tr>\n",
       "      <th>4</th>\n",
       "      <td>데스노트</td>\n",
       "      <td>5</td>\n",
       "      <td>최고의공연입니다</td>\n",
       "      <td>와진짜 귀호강이 이런거군요 ㅠㅠ 너무 좋아서 감동의 물결이 ㅠㅠ 최고의 공연을 봐서...</td>\n",
       "      <td>2023.05.05</td>\n",
       "    </tr>\n",
       "    <tr>\n",
       "      <th>...</th>\n",
       "      <td>...</td>\n",
       "      <td>...</td>\n",
       "      <td>...</td>\n",
       "      <td>...</td>\n",
       "      <td>...</td>\n",
       "    </tr>\n",
       "    <tr>\n",
       "      <th>895</th>\n",
       "      <td>데스노트</td>\n",
       "      <td>5</td>\n",
       "      <td>홍샤는 진리</td>\n",
       "      <td>오늘 공연..찢었습니다 홍샤는 진리예요샤엘 오늘 처음 보는데 몸 너무 잘 쓰고 홍이...</td>\n",
       "      <td>2023.04.26</td>\n",
       "    </tr>\n",
       "    <tr>\n",
       "      <th>896</th>\n",
       "      <td>데스노트</td>\n",
       "      <td>5</td>\n",
       "      <td>생애 첫 홍샤</td>\n",
       "      <td>후기가 좀 많이 늦긴 했지만 정말 기대를 저버리지 않은 페어였습니다 둘이서 그냥 샤...</td>\n",
       "      <td>2023.04.26</td>\n",
       "    </tr>\n",
       "    <tr>\n",
       "      <th>897</th>\n",
       "      <td>데스노트</td>\n",
       "      <td>5</td>\n",
       "      <td>볼때마다 짜릿한 홍샤의 데스노트</td>\n",
       "      <td>한번 본것도 아니고 여러번 보는 중인데 볼때마다각 넘버와 배우님들의 열연에 박수치고...</td>\n",
       "      <td>2023.04.26</td>\n",
       "    </tr>\n",
       "    <tr>\n",
       "      <th>898</th>\n",
       "      <td>데스노트</td>\n",
       "      <td>5</td>\n",
       "      <td>샤엘 샤롯데 샤랑해요~♡</td>\n",
       "      <td>여긴 어디든 꿀자리군요. 좋은 공연장에서 좋은 배우를 봐서 좋아요!!!!</td>\n",
       "      <td>2023.04.26</td>\n",
       "    </tr>\n",
       "    <tr>\n",
       "      <th>899</th>\n",
       "      <td>데스노트</td>\n",
       "      <td>5</td>\n",
       "      <td>샤롯데는 사랑입니다♡</td>\n",
       "      <td>샤엘 보고 싶어서하느님석이라도 갔는데천국이던군요. 샤롯데 짱짱!!!!</td>\n",
       "      <td>2023.04.26</td>\n",
       "    </tr>\n",
       "  </tbody>\n",
       "</table>\n",
       "<p>900 rows × 5 columns</p>\n",
       "</div>"
      ],
      "text/plain": [
       "    musical_title rate       review_title  \\\n",
       "0            데스노트    5          데스노트 재밌어요   \n",
       "1            데스노트    5      데스노트 최고입니다!!!   \n",
       "2            데스노트    5            뮤지컬데스노트   \n",
       "3            데스노트    5         김준수 배우님 최고   \n",
       "4            데스노트    5           최고의공연입니다   \n",
       "..            ...  ...                ...   \n",
       "895          데스노트    5             홍샤는 진리   \n",
       "896          데스노트    5            생애 첫 홍샤   \n",
       "897          데스노트    5  볼때마다 짜릿한 홍샤의 데스노트   \n",
       "898          데스노트    5      샤엘 샤롯데 샤랑해요~♡   \n",
       "899          데스노트    5        샤롯데는 사랑입니다♡   \n",
       "\n",
       "                                           review_text review_date  \n",
       "0                  정말 재미있는 작품이에요~유일하게 회전돌고있는 뮤지컬입니다!!!  2023.05.05  \n",
       "1    데스노트 작년부터 회전돌고 있어요지방사람인데도 데스노트 관극하러한달에  3~4번 서...  2023.05.05  \n",
       "2    뮤지컬데스노트 마지막 라잇홍 보세요홍광호 김성철 장지후 장은아 류인아 배우님들 다 ...  2023.05.05  \n",
       "3                                     데스노트 샤엘 너무 좋아요!!  2023.05.05  \n",
       "4    와진짜 귀호강이 이런거군요 ㅠㅠ 너무 좋아서 감동의 물결이 ㅠㅠ 최고의 공연을 봐서...  2023.05.05  \n",
       "..                                                 ...         ...  \n",
       "895  오늘 공연..찢었습니다 홍샤는 진리예요샤엘 오늘 처음 보는데 몸 너무 잘 쓰고 홍이...  2023.04.26  \n",
       "896  후기가 좀 많이 늦긴 했지만 정말 기대를 저버리지 않은 페어였습니다 둘이서 그냥 샤...  2023.04.26  \n",
       "897  한번 본것도 아니고 여러번 보는 중인데 볼때마다각 넘버와 배우님들의 열연에 박수치고...  2023.04.26  \n",
       "898           여긴 어디든 꿀자리군요. 좋은 공연장에서 좋은 배우를 봐서 좋아요!!!!  2023.04.26  \n",
       "899             샤엘 보고 싶어서하느님석이라도 갔는데천국이던군요. 샤롯데 짱짱!!!!  2023.04.26  \n",
       "\n",
       "[900 rows x 5 columns]"
      ]
     },
     "execution_count": 265,
     "metadata": {},
     "output_type": "execute_result"
    }
   ],
   "source": [
    "pd.concat(review_list).reset_index(drop=True) # index 초기화 해줘야함"
   ]
  }
 ],
 "metadata": {
  "kernelspec": {
   "display_name": "Python 3 (ipykernel)",
   "language": "python",
   "name": "python3"
  },
  "language_info": {
   "codemirror_mode": {
    "name": "ipython",
    "version": 3
   },
   "file_extension": ".py",
   "mimetype": "text/x-python",
   "name": "python",
   "nbconvert_exporter": "python",
   "pygments_lexer": "ipython3",
   "version": "3.8.16"
  }
 },
 "nbformat": 4,
 "nbformat_minor": 5
}
